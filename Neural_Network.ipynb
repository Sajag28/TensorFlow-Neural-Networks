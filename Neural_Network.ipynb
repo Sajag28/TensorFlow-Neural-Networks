{
  "nbformat": 4,
  "nbformat_minor": 0,
  "metadata": {
    "colab": {
      "provenance": [],
      "authorship_tag": "ABX9TyP6WrYIkDkB5JjtmdWmlNCQ",
      "include_colab_link": true
    },
    "kernelspec": {
      "name": "python3",
      "display_name": "Python 3"
    },
    "language_info": {
      "name": "python"
    }
  },
  "cells": [
    {
      "cell_type": "markdown",
      "metadata": {
        "id": "view-in-github",
        "colab_type": "text"
      },
      "source": [
        "<a href=\"https://colab.research.google.com/github/Sajag28/TensorFlow-Neural-Networks/blob/main/Neural_Network.ipynb\" target=\"_parent\"><img src=\"https://colab.research.google.com/assets/colab-badge.svg\" alt=\"Open In Colab\"/></a>"
      ]
    },
    {
      "cell_type": "code",
      "execution_count": 12,
      "metadata": {
        "colab": {
          "base_uri": "https://localhost:8080/"
        },
        "id": "Gmz9jMBCE871",
        "outputId": "6f8936e3-dda5-4f03-babb-736d2d84d3a2"
      },
      "outputs": [
        {
          "output_type": "stream",
          "name": "stdout",
          "text": [
            "(60000, 28, 28)\n",
            "(60000,)\n",
            "(10000, 784)\n",
            "Model: \"sequential\"\n",
            "_________________________________________________________________\n",
            " Layer (type)                Output Shape              Param #   \n",
            "=================================================================\n",
            " dense (Dense)               (None, 512)               401920    \n",
            "                                                                 \n",
            " dense_1 (Dense)             (None, 512)               262656    \n",
            "                                                                 \n",
            " dense_2 (Dense)             (None, 10)                5130      \n",
            "                                                                 \n",
            "=================================================================\n",
            "Total params: 669706 (2.55 MB)\n",
            "Trainable params: 669706 (2.55 MB)\n",
            "Non-trainable params: 0 (0.00 Byte)\n",
            "_________________________________________________________________\n"
          ]
        },
        {
          "output_type": "stream",
          "name": "stderr",
          "text": [
            "WARNING:absl:`lr` is deprecated in Keras optimizer, please use `learning_rate` or use the legacy optimizer, e.g.,tf.keras.optimizers.legacy.Adam.\n"
          ]
        },
        {
          "output_type": "stream",
          "name": "stdout",
          "text": [
            "None\n",
            "Epoch 1/5\n",
            "1875/1875 - 19s - loss: 0.1821 - accuracy: 0.9441 - 19s/epoch - 10ms/step\n",
            "Epoch 2/5\n",
            "1875/1875 - 18s - loss: 0.0778 - accuracy: 0.9758 - 18s/epoch - 9ms/step\n",
            "Epoch 3/5\n",
            "1875/1875 - 19s - loss: 0.0544 - accuracy: 0.9822 - 19s/epoch - 10ms/step\n",
            "Epoch 4/5\n",
            "1875/1875 - 18s - loss: 0.0424 - accuracy: 0.9866 - 18s/epoch - 10ms/step\n",
            "Epoch 5/5\n",
            "1875/1875 - 20s - loss: 0.0330 - accuracy: 0.9893 - 20s/epoch - 11ms/step\n",
            "313/313 - 1s - loss: 0.0735 - accuracy: 0.9796 - 1s/epoch - 4ms/step\n"
          ]
        },
        {
          "output_type": "execute_result",
          "data": {
            "text/plain": [
              "[0.0734725221991539, 0.9796000123023987]"
            ]
          },
          "metadata": {},
          "execution_count": 12
        }
      ],
      "source": [
        "import os\n",
        "os.environ['TFF_CPP_MIN_LOG_LEVEL']='2'\n",
        "import tensorflow as tf\n",
        "from tensorflow import keras\n",
        "from tensorflow.keras.datasets import mnist\n",
        "keras.layers = tf.keras.layers\n",
        "\n",
        "(x_train, y_train), (x_test,y_test)=mnist.load_data()\n",
        "print(x_train.shape)\n",
        "print(y_train.shape)\n",
        "\n",
        "x_train=x_train.reshape(-1,28*28).astype(\"float32\")/255.0\n",
        "x_test=x_test.reshape(-1,28*28).astype(\"float32\")/255.0\n",
        "\n",
        "print(x_test.shape)\n",
        "#using sequential api of keras for creating a neuralnetworks\n",
        "model=keras.Sequential(\n",
        "    [   keras.Input(shape=(28*28)),\n",
        "        keras.layers.Dense(512, activation='relu'),\n",
        "        keras.layers.Dense(512, activation='relu'),\n",
        "        keras.layers.Dense(10),\n",
        "    ]\n",
        ")\n",
        "# x=layers.Dense(256,activation='relu',name='second_layer')(x)\n",
        "# outputs=layers.Dense(10,activation='softmax')(x)\n",
        "# model=keras.Model(inputs=inputs,outputs=outputs)\n",
        "print(model.summary())\n",
        "model.compile(\n",
        "    loss=keras.losses.SparseCategoricalCrossentropy(from_logits=True),\n",
        "    optimizer=keras.optimizers.Adam(lr=0.001),\n",
        "    metrics=[\"accuracy\"],\n",
        ")\n",
        "\n",
        "model.fit(x_train,y_train,batch_size=32,epochs=5,verbose=2)\n",
        "model.evaluate(x_test,y_test,batch_size=32,verbose=2)\n",
        "import sys\n",
        "sys.exit()"
      ]
    },
    {
      "cell_type": "code",
      "source": [],
      "metadata": {
        "id": "rzDaQOnZqETp"
      },
      "execution_count": null,
      "outputs": []
    }
  ]
}